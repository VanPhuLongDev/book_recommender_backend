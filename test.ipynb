{
 "cells": [
  {
   "cell_type": "code",
   "execution_count": 5,
   "metadata": {},
   "outputs": [],
   "source": [
    "id=\"id\"\n",
    "title=\"title\"\n",
    "description=\"description\""
   ]
  },
  {
   "cell_type": "code",
   "execution_count": 6,
   "metadata": {},
   "outputs": [],
   "source": [
    "books = [{\n",
    "    id:\"1\",\n",
    "    title:\"The Great Gatsby\",\n",
    "    description:\"The Great Gatsby is a 1925 novel by American writer F. Scott Fitzgerald. Set in the Jazz Age on Long Island, near New York City, the novel depicts first-person narrator Nick Carraway's interactions with mysterious millionaire Jay Gatsby and Gatsby's obsession to reunite with his former lover, Daisy Buchanan.\",\n",
    "},\n",
    "{\n",
    "    id:\"2\",\n",
    "    title:\"To Kill a Mockingbird\",\n",
    "    description:\"To Kill a Mockingbird is a novel by the American author Harper Lee. It was published in 1960 and was instantly successful. In the United States, it is widely read in high schools and middle schools. To Kill a Mockingbird has become a classic of modern American literature, winning the Pulitzer Prize.\",\n",
    "},\n",
    "{\n",
    "    id:\"3\",\n",
    "    title:\"1984\",\n",
    "    description:\"1984 is a novel by George Orwell, published in 1949. It is set in a dystopian future where critical thought is suppressed by a totalitarian regime. The protagonist, Winston Smith, risks his safety and freedom to pursue a forbidden relationship and live unexamined life.\",\n",
    "},\n",
    "{\n",
    "    id:\"4\",\n",
    "    title:\"Harry Potter and the Philosopher's Stone\",\n",
    "    description:\"Harry Potter and the Philosopher's Stone is a fantasy novel written by British author J. K. Rowling. The first novel in the Harry Potter series and Rowling's debut novel, it follows Harry Potter, a young wizard who discovers his magical heritage on his eleventh birthday when he receives a letter of acceptance to Hogwarts School of Witchcraft and Wizardry.\",\n",
    "},\n",
    "{\n",
    "    id:\"5\",\n",
    "    title:\"The Lord of the Rings\",\n",
    "    description:\"The Lord of the Rings is an epic high-fantasy novel by the English author and scholar J. R. R. Tolkien. Set in Middle-earth, the world at some distant time in the past, the story began as a sequel to Tolkien's 1937 children's book The Hobbit, but eventually developed into a much larger work.\",\n",
    "},\n",
    "{\n",
    "    id:\"6\",\n",
    "    title:\"The Catcher in the Rye\",\n",
    "    description:\"The Catcher in the Rye is a novel by J. D. Salinger, partially published in serial form in 1945–1946 and as a novel in 1951. It was originally intended for adults but is often read by adolescents for its themes of angst and alienation, and as a critique on superficiality in society.\",\n",
    "},\n",
    "{\n",
    "    id:\"7\",\n",
    "    title:\"The Hobbit\",\n",
    "    description:\"The Hobbit, or There and Back Again is a children's fantasy novel by English author J. R. R. Tolkien. It was published on 21 September 1937 to wide critical acclaim, being nominated for the Carnegie Medal and awarded a prize from the New York Herald Tribune for best juvenile fiction.\",\n",
    "},\n",
    "{\n",
    "    id:\"8\",\n",
    "    title:\"Fahrenheit 451\",\n",
    "    description:\"Fahrenheit 451 is a dystopian novel by American writer Ray Bradbury, first published in 1953. Often regarded as one of his best works, the novel presents a future American society where books are outlawed and 'firemen' burn any that are found.\",\n",
    "},\n",
    "{\n",
    "    id:\"9\",\n",
    "    title:\"Pride and Prejudice\",\n",
    "    description:\"Pride and Prejudice is a romantic novel of manners written by Jane Austen in 1813. The novel follows the character development of Elizabeth Bennet, the dynamic protagonist of the book who learns about the repercussions of hasty judgments and comes to appreciate the difference between superficial goodness and actual goodness.\",\n",
    "},\n",
    "{\n",
    "    id:\"10\",\n",
    "    title:\"The Book Thief\",\n",
    "    description:\"The Book Thief is a historical novel by Australian author Markus Zusak, and is his most popular work. Published in 2005, The Book Thief became an international bestseller and was translated into 63 languages and sold 16 million copies.\",\n",
    "}]\n"
   ]
  },
  {
   "cell_type": "code",
   "execution_count": 1,
   "metadata": {},
   "outputs": [
    {
     "name": "stderr",
     "output_type": "stream",
     "text": [
      "/Users/nguyeqoctih/Code/python/contentBase/book_recommender_backend/.venv/lib/python3.9/site-packages/urllib3/__init__.py:35: NotOpenSSLWarning: urllib3 v2 only supports OpenSSL 1.1.1+, currently the 'ssl' module is compiled with 'LibreSSL 2.8.3'. See: https://github.com/urllib3/urllib3/issues/3020\n",
      "  warnings.warn(\n"
     ]
    }
   ],
   "source": [
    "import requests\n",
    "\n",
    "url = \"http://127.0.0.1:5000/books\"\n",
    "\n",
    "\n"
   ]
  },
  {
   "cell_type": "code",
   "execution_count": 7,
   "metadata": {},
   "outputs": [
    {
     "name": "stdout",
     "output_type": "stream",
     "text": [
      "<Response [200]>\n",
      "<Response [200]>\n",
      "<Response [200]>\n",
      "<Response [200]>\n",
      "<Response [200]>\n",
      "<Response [200]>\n",
      "<Response [200]>\n",
      "<Response [200]>\n",
      "<Response [200]>\n",
      "<Response [200]>\n"
     ]
    }
   ],
   "source": [
    "\n",
    "for book in books:\n",
    "    data = {\n",
    "        \"id\": book[\"id\"],\n",
    "        \"title\": book[\"title\"],\n",
    "        \"description\": book[\"description\"]\n",
    "    }\n",
    "    response = requests.post(url, json=data)\n",
    "\n",
    "    print(response)"
   ]
  },
  {
   "cell_type": "code",
   "execution_count": 10,
   "metadata": {},
   "outputs": [
    {
     "name": "stdout",
     "output_type": "stream",
     "text": [
      "[{'_id': '1', 'score': 1.0}, {'_id': '8', 'score': 0.9332455396652222}, {'_id': '7', 'score': 0.9256651401519775}, {'_id': '2', 'score': 0.9210312962532043}, {'_id': '3', 'score': 0.9163307547569275}, {'_id': '4', 'score': 0.9113305807113647}, {'_id': '6', 'score': 0.9108673334121704}, {'_id': '5', 'score': 0.9099015593528748}, {'_id': '9', 'score': 0.9055410623550415}, {'_id': '10', 'score': 0.8854249715805054}]\n"
     ]
    }
   ],
   "source": [
    "res = requests.get(url+\"/relative\",params={\"book_id\":\"1\"})\n",
    "\n",
    "print(res.json())"
   ]
  },
  {
   "cell_type": "code",
   "execution_count": 11,
   "metadata": {},
   "outputs": [
    {
     "name": "stdout",
     "output_type": "stream",
     "text": [
      "[{'_id': '1', 'score': 1.0}, {'_id': '8', 'score': 0.9332455396652222}, {'_id': '7', 'score': 0.9256651401519775}, {'_id': '2', 'score': 0.9210312962532043}, {'_id': '3', 'score': 0.9163307547569275}, {'_id': '4', 'score': 0.9113305807113647}, {'_id': '6', 'score': 0.9108673334121704}, {'_id': '5', 'score': 0.9099015593528748}, {'_id': '9', 'score': 0.9055410623550415}, {'_id': '10', 'score': 0.8854249715805054}]\n"
     ]
    }
   ],
   "source": [
    "res = requests.get(url+\"/semantic\",params={\"texts\":\"The Great Gatsby is a 1925 novel by American writer F. Scott Fitzgerald. Set in the Jazz Age on Long Island, near New York City, the novel depicts first-person narrator Nick Carraway's interactions with mysterious millionaire Jay Gatsby and Gatsby's obsession to reunite with his former lover, Daisy Buchanan.\"})\n",
    "\n",
    "print(res.json())"
   ]
  }
 ],
 "metadata": {
  "kernelspec": {
   "display_name": ".venv",
   "language": "python",
   "name": "python3"
  },
  "language_info": {
   "codemirror_mode": {
    "name": "ipython",
    "version": 3
   },
   "file_extension": ".py",
   "mimetype": "text/x-python",
   "name": "python",
   "nbconvert_exporter": "python",
   "pygments_lexer": "ipython3",
   "version": "3.9.6"
  }
 },
 "nbformat": 4,
 "nbformat_minor": 2
}
